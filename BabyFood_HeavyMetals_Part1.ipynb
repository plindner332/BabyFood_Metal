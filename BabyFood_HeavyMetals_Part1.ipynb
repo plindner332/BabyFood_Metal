{
 "cells": [
  {
   "cell_type": "markdown",
   "metadata": {},
   "source": [
    "# Baby Food Heavy Metals\n",
    "### *Part 1 - Scrapping Appendix A*\n",
    "\n",
    "In October 2019 Healthy Babies Bright Futures came out with a report showing that Toxic Heavy Metals were found in nearly every baby food they tested [link](https://www.healthybabyfood.org/sites/healthybabyfoods.org/files/2020-04/BabyFoodReport_ENGLISH_R6.pdf) (n=168).  Their overall guidance from the report was excellent; but I had some questions I wanted to answer myself.  In order to do this I needed a workable table of their laboratory results.  \n",
    "\n",
    "In this Script I scrape and clean up Appendix A from Healthy Babies Bright Futures report, 'What's in my Baby's Food?'."
   ]
  },
  {
   "cell_type": "code",
   "execution_count": 1,
   "metadata": {},
   "outputs": [],
   "source": [
    "import numpy as np\n",
    "import pandas as pd\n",
    "import tabula"
   ]
  },
  {
   "cell_type": "markdown",
   "metadata": {},
   "source": [
    "##### Here is the link of the PDF online."
   ]
  },
  {
   "cell_type": "code",
   "execution_count": 2,
   "metadata": {},
   "outputs": [],
   "source": [
    "file = \"https://www.healthybabyfood.org/sites/healthybabyfoods.org/files/2020-04/BabyFoodReport_ENGLISH_R6.pdf\""
   ]
  },
  {
   "cell_type": "markdown",
   "metadata": {},
   "source": [
    "##### Appendix A is pages 22 to 31.   I'm having trouble reading multiple pages with tabula in this particular pdf.  TTo resolve this I  in one data frame, although when I run this on individual pages its not a problem.  May need to create a loop, and comcat this to one giant dataframe.  Easiest would be to do this first."
   ]
  },
  {
   "cell_type": "code",
   "execution_count": 3,
   "metadata": {},
   "outputs": [],
   "source": [
    "Tables = pd.DataFrame()\n",
    "Tables_stack = pd.DataFrame()"
   ]
  },
  {
   "cell_type": "code",
   "execution_count": 4,
   "metadata": {},
   "outputs": [],
   "source": [
    "for i in range(22, 32):\n",
    "    Tables = tabula.read_pdf(file, pages = [i], stream=True)[0]\n",
    "    Tables_stack = pd.concat([Tables_stack, Tables], axis=0)"
   ]
  },
  {
   "cell_type": "code",
   "execution_count": 5,
   "metadata": {},
   "outputs": [],
   "source": [
    "Tables_stack = Tables_stack.replace(np.nan, '', regex=True)"
   ]
  },
  {
   "cell_type": "markdown",
   "metadata": {},
   "source": [
    "##### Columns had issues due to text wrapping over 3 lines.  The table is justified to the bottom, so only columns with 3 lines have any phrases in the dataframe column name.  To solve this a for loop was ran around  dataframe of only the first two rows.  This creates a_array, which I then copied and pasted and given minor edits into a numpy called Col; then defined as the main dataframes column labels."
   ]
  },
  {
   "cell_type": "code",
   "execution_count": 6,
   "metadata": {
    "scrolled": true
   },
   "outputs": [],
   "source": [
    "df = Tables_stack.head(2)"
   ]
  },
  {
   "cell_type": "code",
   "execution_count": 7,
   "metadata": {},
   "outputs": [],
   "source": [
    "a_array = np.array([])"
   ]
  },
  {
   "cell_type": "code",
   "execution_count": 8,
   "metadata": {},
   "outputs": [
    {
     "name": "stdout",
     "output_type": "stream",
     "text": [
      "Brand Food\n",
      "\n",
      "Food type\n",
      "Arsenic(total, ppb)\n",
      "Arsenic(inorganic, ppb)\n",
      "Lead (ppb)\n",
      "Cadmium(ppb)\n",
      "Mercury(total, ppb)\n",
      "Metro area wherepurchased\n",
      "Retailer\n"
     ]
    }
   ],
   "source": [
    "for j in df.columns: # j is the columns, i is the rows\n",
    "    if \"Unnamed:\" in j:\n",
    "        a = (df[j].str.cat())\n",
    "    else:\n",
    "        a = (j + df[j].str.cat(sep=' '))\n",
    "    print(a)\n",
    "    a_array = np.append(a_array, a)"
   ]
  },
  {
   "cell_type": "code",
   "execution_count": 9,
   "metadata": {},
   "outputs": [
    {
     "data": {
      "text/plain": [
       "array(['Brand Food', '', 'Food type', 'Arsenic(total, ppb)',\n",
       "       'Arsenic(inorganic, ppb)', 'Lead (ppb)', 'Cadmium(ppb)',\n",
       "       'Mercury(total, ppb)', 'Metro area wherepurchased', 'Retailer'],\n",
       "      dtype='<U32')"
      ]
     },
     "execution_count": 9,
     "metadata": {},
     "output_type": "execute_result"
    }
   ],
   "source": [
    "a_array"
   ]
  },
  {
   "cell_type": "code",
   "execution_count": 10,
   "metadata": {},
   "outputs": [],
   "source": [
    "Col = ['Brand', 'Food', 'Food type', 'Arsenic (total, ppb)',\n",
    "       'Arsenic (inorganic, ppb)', 'Lead (ppb)', 'Cadmium (ppb)',\n",
    "       'Mercury (total, ppb)', 'Metro area where purchased', 'Retailer']"
   ]
  },
  {
   "cell_type": "code",
   "execution_count": 11,
   "metadata": {},
   "outputs": [],
   "source": [
    "Tables_stack.columns = Col"
   ]
  },
  {
   "cell_type": "code",
   "execution_count": 12,
   "metadata": {},
   "outputs": [
    {
     "data": {
      "text/plain": [
       "(351, 10)"
      ]
     },
     "execution_count": 12,
     "metadata": {},
     "output_type": "execute_result"
    }
   ],
   "source": [
    "Tables_stack.shape"
   ]
  },
  {
   "cell_type": "markdown",
   "metadata": {},
   "source": [
    "##### We want to drop the column names repeated on every page; 2 rows repeated 10x (once for every page).  The first two rows(0 & 1) are dropped, since we concatted the tables the same number index is used reducing our overall rows by 20 (351 to 331)."
   ]
  },
  {
   "cell_type": "code",
   "execution_count": 13,
   "metadata": {},
   "outputs": [
    {
     "data": {
      "text/plain": [
       "(331, 10)"
      ]
     },
     "execution_count": 13,
     "metadata": {},
     "output_type": "execute_result"
    }
   ],
   "source": [
    "Tables_stack = Tables_stack.drop([0,1])\n",
    "Tables_stack.shape"
   ]
  },
  {
   "cell_type": "code",
   "execution_count": 14,
   "metadata": {},
   "outputs": [],
   "source": [
    "Tables_stack = Tables_stack.reset_index(drop=True)"
   ]
  },
  {
   "cell_type": "markdown",
   "metadata": {},
   "source": [
    "##### Each food tested has multiple rows page has different seperation based on the wrapping of the Brand, Food and Food Type columns. However it always begins on a specific value or in this case a specific Retailer.  To fix this a new column is created 'a', which counts everytime a new Retailer appears.  Then, columns Brand, Food & Food Type are tranformed to 'join', grouping by the 'a' value.\n",
    "\n",
    "##### Then all blank values are replaced with NaN, and any row in 'Retailer' that has NaN is removed.  After the column 'a' is dropped."
   ]
  },
  {
   "cell_type": "code",
   "execution_count": 15,
   "metadata": {},
   "outputs": [],
   "source": [
    "a_array = np.array([]) \n",
    "for index, row in Tables_stack.iterrows():\n",
    "    if row.Retailer != '':\n",
    "        a = int(index)\n",
    "    a_array = np.append(a_array, a)\n",
    "Tables_stack['a']= a_array\n",
    "Tables_stack['Brand'] = Tables_stack.groupby(['a'])['Brand'].transform(lambda x: ' '.join(x))\n",
    "Tables_stack['Food'] = Tables_stack.groupby(['a'])['Food'].transform(lambda y: ' '.join(y))\n",
    "Tables_stack['Food type'] = Tables_stack.groupby(['a'])['Food type'].transform(lambda z: ' '.join(z))\n",
    "Tables_stack.replace(\"\", np.nan, inplace=True) # replace blank values with NaN\n",
    "Tables_stack = Tables_stack.dropna(subset = ['Retailer']) #Drop rows with NaN in Values\n",
    "Tables_stack = Tables_stack.drop(columns=['a'])"
   ]
  },
  {
   "cell_type": "code",
   "execution_count": 16,
   "metadata": {},
   "outputs": [
    {
     "data": {
      "text/plain": [
       "(168, 10)"
      ]
     },
     "execution_count": 16,
     "metadata": {},
     "output_type": "execute_result"
    }
   ],
   "source": [
    "Tables_stack.shape"
   ]
  },
  {
   "cell_type": "markdown",
   "metadata": {},
   "source": [
    "##### Based on the shape shoing 168 rows, it looks like this method worked as the article tested 168 unique baby foods.\n",
    "\n",
    "##### After this there are some minor things to do to cleanup the table further to make it easy to work with."
   ]
  },
  {
   "cell_type": "code",
   "execution_count": 17,
   "metadata": {},
   "outputs": [],
   "source": [
    "Tables_stack.replace(\" \", np.nan, inplace=True)\n",
    "Tables_stack.replace(\"  \", np.nan, inplace=True)\n",
    "Tables_stack.replace(\"   \", np.nan, inplace=True)"
   ]
  },
  {
   "cell_type": "markdown",
   "metadata": {},
   "source": [
    "##### In some cases the Food column was empty, and the Brand column included the Brand & Food information.  To fix this every Food value that has 'NaN' in it will be replaced by the entire Brand column.  This will result in a Food that has the Brand preceding its name.  This is minor difference in the tables ouput from this script and the original pdf."
   ]
  },
  {
   "cell_type": "code",
   "execution_count": 18,
   "metadata": {},
   "outputs": [],
   "source": [
    "Tables_stack.Food.fillna(Tables_stack.Brand, inplace=True)"
   ]
  },
  {
   "cell_type": "markdown",
   "metadata": {},
   "source": [
    "##### To remove all the extra text in Brand, first only the first word is kept to use to identify the entire Brand (45 unique brands).  Then an array, mult, was created with brute force (typing in each brand name).  A dataframe from this array, df, is created where one column 'First' has only the first word, and 'mult' represents multiple words for the brand.  This dataframe is then used to create a dictionary which then replaces each identical term to the 'first' word with the 'mult' column."
   ]
  },
  {
   "cell_type": "code",
   "execution_count": 19,
   "metadata": {},
   "outputs": [],
   "source": [
    "Tables_stack['Brand'] = Tables_stack['Brand'].str.split().str[0].str.strip()"
   ]
  },
  {
   "cell_type": "code",
   "execution_count": 20,
   "metadata": {},
   "outputs": [
    {
     "data": {
      "text/plain": [
       "array(['Beech-Nut', 'BioKinetics', 'Earth’s', 'Gerber', 'Healthy',\n",
       "       'Kitchdee', 'HappyBABY', 'Harvest', 'Cream', 'NurturMe', '365',\n",
       "       'Baby’s', 'Enfamil', 'Meijer', 'Parent’s', 'Plum', 'Similac',\n",
       "       'Simple', 'up', 'O', 'Applesnax', 'Mott’s', 'Seneca', 'Orchard',\n",
       "       'Sprout', 'Juicy', 'Kidgets', 'Apple', 'Good2Grow', 'Orgain',\n",
       "       'Pediasure', 'Repone', 'Yoo-hoo', 'Deluxe', 'Happy', 'Kraft',\n",
       "       'Comforts', 'Baby', 'Cuétara', 'Lil’', 'Nosh!', 'Ella’s', 'Little',\n",
       "       'Nostalgia', 'SOBISK'], dtype=object)"
      ]
     },
     "execution_count": 20,
     "metadata": {},
     "output_type": "execute_result"
    }
   ],
   "source": [
    "Tables_stack['Brand'].unique()"
   ]
  },
  {
   "cell_type": "code",
   "execution_count": 21,
   "metadata": {},
   "outputs": [
    {
     "data": {
      "text/plain": [
       "45"
      ]
     },
     "execution_count": 21,
     "metadata": {},
     "output_type": "execute_result"
    }
   ],
   "source": [
    "Tables_stack['Brand'].unique().size"
   ]
  },
  {
   "cell_type": "code",
   "execution_count": 22,
   "metadata": {},
   "outputs": [],
   "source": [
    "mult = np.array(['Earth’s Best', 'Healthy Times', 'Kitchdee Organic', 'Harvest Hill', 'Cream of Wheat',\n",
    "                 '365 organic(Whole Foods)', 'Baby’s Only Organic', 'Parent’s Choice (Walmart)', 'Plum Organics', \n",
    "                 'Simple Truth Organic (Kroger)','up & up (Target)', 'O Organics (Albertson/Safeway)','Orchard Naturals',\n",
    "                 'Apple & Eve','Juicy Juice','Deluxe Pasta','Happy Tot','Baby Mum-Mum', 'Simple Truth Organic (Kroger)', \n",
    "                 'Lil’ Dutch Maid', 'Ella’s Kitchen', 'Little Duck Organics', 'Beech-Nut', 'BioKinetics', 'Gerber', \n",
    "                 'HappyBABY', 'NurturMe', 'Enfamil', 'Meijer', 'Similac', 'Applesnax', 'Mott’s', 'Seneca', 'Sprout', \n",
    "                 'Kidgets', 'Good2Grow', 'Orgain', 'Pediasure', 'Repone', 'Yoo-hoo', 'Kraft', 'Comforts (Kroger)', \n",
    "                 'Cuétara', 'Nosh!', 'Nostalgia', 'SOBISK'])"
   ]
  },
  {
   "cell_type": "code",
   "execution_count": 23,
   "metadata": {},
   "outputs": [
    {
     "data": {
      "text/html": [
       "<div>\n",
       "<style scoped>\n",
       "    .dataframe tbody tr th:only-of-type {\n",
       "        vertical-align: middle;\n",
       "    }\n",
       "\n",
       "    .dataframe tbody tr th {\n",
       "        vertical-align: top;\n",
       "    }\n",
       "\n",
       "    .dataframe thead th {\n",
       "        text-align: right;\n",
       "    }\n",
       "</style>\n",
       "<table border=\"1\" class=\"dataframe\">\n",
       "  <thead>\n",
       "    <tr style=\"text-align: right;\">\n",
       "      <th></th>\n",
       "      <th>mult</th>\n",
       "      <th>First</th>\n",
       "    </tr>\n",
       "  </thead>\n",
       "  <tbody>\n",
       "    <tr>\n",
       "      <th>0</th>\n",
       "      <td>Earth’s Best</td>\n",
       "      <td>Earth’s</td>\n",
       "    </tr>\n",
       "    <tr>\n",
       "      <th>1</th>\n",
       "      <td>Healthy Times</td>\n",
       "      <td>Healthy</td>\n",
       "    </tr>\n",
       "    <tr>\n",
       "      <th>2</th>\n",
       "      <td>Kitchdee Organic</td>\n",
       "      <td>Kitchdee</td>\n",
       "    </tr>\n",
       "    <tr>\n",
       "      <th>3</th>\n",
       "      <td>Harvest Hill</td>\n",
       "      <td>Harvest</td>\n",
       "    </tr>\n",
       "    <tr>\n",
       "      <th>4</th>\n",
       "      <td>Cream of Wheat</td>\n",
       "      <td>Cream</td>\n",
       "    </tr>\n",
       "  </tbody>\n",
       "</table>\n",
       "</div>"
      ],
      "text/plain": [
       "               mult     First\n",
       "0      Earth’s Best   Earth’s\n",
       "1     Healthy Times   Healthy\n",
       "2  Kitchdee Organic  Kitchdee\n",
       "3      Harvest Hill   Harvest\n",
       "4    Cream of Wheat     Cream"
      ]
     },
     "execution_count": 23,
     "metadata": {},
     "output_type": "execute_result"
    }
   ],
   "source": [
    "df = pd.DataFrame([])\n",
    "df['mult']=mult\n",
    "df['First'] = df['mult'].str.split().str[0].str.strip()\n",
    "df.head()"
   ]
  },
  {
   "cell_type": "code",
   "execution_count": 24,
   "metadata": {},
   "outputs": [],
   "source": [
    "key_list = list(Tables_stack['Brand'])"
   ]
  },
  {
   "cell_type": "code",
   "execution_count": 25,
   "metadata": {},
   "outputs": [],
   "source": [
    "dict_lookup = dict(zip(df['First'], df['mult']))"
   ]
  },
  {
   "cell_type": "code",
   "execution_count": 26,
   "metadata": {},
   "outputs": [],
   "source": [
    "Tables_stack['Brand'] = [dict_lookup[item] for item in key_list]"
   ]
  },
  {
   "cell_type": "code",
   "execution_count": 27,
   "metadata": {},
   "outputs": [],
   "source": [
    "Tables_stack = Tables_stack.reset_index(drop=True)"
   ]
  },
  {
   "cell_type": "code",
   "execution_count": 28,
   "metadata": {},
   "outputs": [
    {
     "data": {
      "text/plain": [
       "Index(['Brand', 'Food', 'Food type', 'Arsenic (total, ppb)',\n",
       "       'Arsenic (inorganic, ppb)', 'Lead (ppb)', 'Cadmium (ppb)',\n",
       "       'Mercury (total, ppb)', 'Metro area where purchased', 'Retailer'],\n",
       "      dtype='object')"
      ]
     },
     "execution_count": 28,
     "metadata": {},
     "output_type": "execute_result"
    }
   ],
   "source": [
    "Tables_stack.columns"
   ]
  },
  {
   "cell_type": "markdown",
   "metadata": {},
   "source": [
    "##### Checking that everything looks right, then removing a unique character that causes an issue on excel.  The character is  ’  which is cleaner when replaced with '."
   ]
  },
  {
   "cell_type": "code",
   "execution_count": 29,
   "metadata": {},
   "outputs": [
    {
     "data": {
      "text/html": [
       "<div>\n",
       "<style scoped>\n",
       "    .dataframe tbody tr th:only-of-type {\n",
       "        vertical-align: middle;\n",
       "    }\n",
       "\n",
       "    .dataframe tbody tr th {\n",
       "        vertical-align: top;\n",
       "    }\n",
       "\n",
       "    .dataframe thead th {\n",
       "        text-align: right;\n",
       "    }\n",
       "</style>\n",
       "<table border=\"1\" class=\"dataframe\">\n",
       "  <thead>\n",
       "    <tr style=\"text-align: right;\">\n",
       "      <th></th>\n",
       "      <th>Brand</th>\n",
       "      <th>Food</th>\n",
       "      <th>Food type</th>\n",
       "      <th>Arsenic (total, ppb)</th>\n",
       "      <th>Arsenic (inorganic, ppb)</th>\n",
       "      <th>Lead (ppb)</th>\n",
       "      <th>Cadmium (ppb)</th>\n",
       "      <th>Mercury (total, ppb)</th>\n",
       "      <th>Metro area where purchased</th>\n",
       "      <th>Retailer</th>\n",
       "    </tr>\n",
       "  </thead>\n",
       "  <tbody>\n",
       "    <tr>\n",
       "      <th>0</th>\n",
       "      <td>Beech-Nut</td>\n",
       "      <td>Beech-Nut Rice Single Grain Baby Cereal - Stag...</td>\n",
       "      <td>Cereal - rice</td>\n",
       "      <td>117</td>\n",
       "      <td>86</td>\n",
       "      <td>3.5</td>\n",
       "      <td>5.4</td>\n",
       "      <td>0.582</td>\n",
       "      <td>Charlottesville, VA</td>\n",
       "      <td>Wegmans</td>\n",
       "    </tr>\n",
       "    <tr>\n",
       "      <th>1</th>\n",
       "      <td>BioKinetics</td>\n",
       "      <td>BioKinetics BioKinetics Brown Rice Organic Spr...</td>\n",
       "      <td>Cereal - rice</td>\n",
       "      <td>353</td>\n",
       "      <td>144</td>\n",
       "      <td>3.1 *</td>\n",
       "      <td>31.7</td>\n",
       "      <td>2.32</td>\n",
       "      <td>Washington, DC</td>\n",
       "      <td>amazon.com</td>\n",
       "    </tr>\n",
       "    <tr>\n",
       "      <th>2</th>\n",
       "      <td>Earth’s Best</td>\n",
       "      <td>Earth’s Best Whole Grain Rice Cereal</td>\n",
       "      <td>Cereal - rice</td>\n",
       "      <td>138</td>\n",
       "      <td>113</td>\n",
       "      <td>22.5</td>\n",
       "      <td>14.7</td>\n",
       "      <td>2.41</td>\n",
       "      <td>San Diego, CA</td>\n",
       "      <td>99 Cents Only Stores</td>\n",
       "    </tr>\n",
       "    <tr>\n",
       "      <th>3</th>\n",
       "      <td>Earth’s Best</td>\n",
       "      <td>Earth’s Best Whole Grain Rice Cereal</td>\n",
       "      <td>Cereal - rice</td>\n",
       "      <td>126</td>\n",
       "      <td>107</td>\n",
       "      <td>17.8</td>\n",
       "      <td>13.4</td>\n",
       "      <td>2.19</td>\n",
       "      <td>Portland, ME</td>\n",
       "      <td>Hannaford</td>\n",
       "    </tr>\n",
       "    <tr>\n",
       "      <th>4</th>\n",
       "      <td>Gerber</td>\n",
       "      <td>Gerber Rice Single Grain Cereal</td>\n",
       "      <td>Cereal - rice</td>\n",
       "      <td>106</td>\n",
       "      <td>74</td>\n",
       "      <td>3.9</td>\n",
       "      <td>11.1</td>\n",
       "      <td>1.79</td>\n",
       "      <td>Gambell, AK</td>\n",
       "      <td>ANICA Native Store</td>\n",
       "    </tr>\n",
       "  </tbody>\n",
       "</table>\n",
       "</div>"
      ],
      "text/plain": [
       "          Brand                                               Food  \\\n",
       "0     Beech-Nut  Beech-Nut Rice Single Grain Baby Cereal - Stag...   \n",
       "1   BioKinetics  BioKinetics BioKinetics Brown Rice Organic Spr...   \n",
       "2  Earth’s Best               Earth’s Best Whole Grain Rice Cereal   \n",
       "3  Earth’s Best               Earth’s Best Whole Grain Rice Cereal   \n",
       "4        Gerber                    Gerber Rice Single Grain Cereal   \n",
       "\n",
       "        Food type Arsenic (total, ppb) Arsenic (inorganic, ppb) Lead (ppb)  \\\n",
       "0  Cereal - rice                   117                       86        3.5   \n",
       "1  Cereal - rice                   353                      144      3.1 *   \n",
       "2   Cereal - rice                  138                      113       22.5   \n",
       "3   Cereal - rice                  126                      107       17.8   \n",
       "4   Cereal - rice                  106                       74        3.9   \n",
       "\n",
       "  Cadmium (ppb) Mercury (total, ppb) Metro area where purchased  \\\n",
       "0           5.4                0.582        Charlottesville, VA   \n",
       "1          31.7                 2.32             Washington, DC   \n",
       "2          14.7                 2.41              San Diego, CA   \n",
       "3          13.4                 2.19               Portland, ME   \n",
       "4          11.1                 1.79                Gambell, AK   \n",
       "\n",
       "               Retailer  \n",
       "0               Wegmans  \n",
       "1            amazon.com  \n",
       "2  99 Cents Only Stores  \n",
       "3             Hannaford  \n",
       "4    ANICA Native Store  "
      ]
     },
     "execution_count": 29,
     "metadata": {},
     "output_type": "execute_result"
    }
   ],
   "source": [
    "Tables_stack.head()"
   ]
  },
  {
   "cell_type": "code",
   "execution_count": 30,
   "metadata": {},
   "outputs": [],
   "source": [
    "Tables_stack['Brand'] = Tables_stack['Brand'].str.replace('’','\\'')\n",
    "Tables_stack['Food'] = Tables_stack['Food'].str.replace('’','\\'')"
   ]
  },
  {
   "cell_type": "markdown",
   "metadata": {},
   "source": [
    "##### The CSV output 'Baby_Metals_clean_table.csv' is used to allow for future edits.  For now I have my own edits that I will make and put into an alternate CSV."
   ]
  },
  {
   "cell_type": "code",
   "execution_count": 31,
   "metadata": {},
   "outputs": [],
   "source": [
    "Tables_stack.to_csv('Baby_Metals_clean_table.csv') "
   ]
  },
  {
   "cell_type": "markdown",
   "metadata": {},
   "source": [
    "##### The alternate CSV is entiteld 'Baby_Metals_mod_data.csv' as it includes modified data.  The changes are:\n",
    "\n",
    "**Cosmetic:**\n",
    "- replacing '--' with blank.  -- means no test was performed.\n",
    "- replacing 'é' with e.  This is only for one Brand/food name.\n",
    "- I'm unsure of the reason, one data point has a ' v'; replaced with a blank.\n",
    "\n",
    "**Data assumptions:**\n",
    "- numerical values with < symbol are changed to 0.  This indicates there was no detection, but the value there is the limit of detection.  For our purposes this can be assumed at 0.\n",
    "- The single * indicates the value is an estimate.  To give it a fair comparison, we assume that the estimate is accurate.\n",
    "- ‡ is removed.  It's there to indicate this particular sample is the average of 3 data points.  Instead we will just keep the average.\n"
   ]
  },
  {
   "cell_type": "code",
   "execution_count": 32,
   "metadata": {},
   "outputs": [],
   "source": [
    "Tables_stack = Tables_stack.replace('--','')\n",
    "Tables_stack['Brand'] = Tables_stack['Brand'].str.replace(\"é\",\"e\")\n",
    "Tables_stack['Food'] = Tables_stack['Food'].str.replace(\"é\",\"e\")"
   ]
  },
  {
   "cell_type": "code",
   "execution_count": 33,
   "metadata": {},
   "outputs": [],
   "source": [
    "Tables_stack.loc[Tables_stack['Arsenic (total, ppb)'].str.contains('<'), 'Arsenic (total, ppb)'] = '0'\n",
    "Tables_stack.loc[Tables_stack['Arsenic (inorganic, ppb)'].str.contains('<'), 'Arsenic (inorganic, ppb)'] = '0'\n",
    "Tables_stack.loc[Tables_stack['Lead (ppb)'].str.contains('<'), 'Lead (ppb)'] = '0'\n",
    "Tables_stack.loc[Tables_stack['Cadmium (ppb)'].str.contains('<'), 'Cadmium (ppb)'] = '0'\n",
    "Tables_stack.loc[Tables_stack['Mercury (total, ppb)'].str.contains('<'), 'Mercury (total, ppb)'] = '0'"
   ]
  },
  {
   "cell_type": "code",
   "execution_count": 34,
   "metadata": {},
   "outputs": [],
   "source": [
    "Tables_stack['Arsenic (total, ppb)'] = Tables_stack['Arsenic (total, ppb)'].str.replace(\"\\*\",\"\")\n",
    "Tables_stack['Arsenic (total, ppb)'] = Tables_stack['Arsenic (total, ppb)'].str.replace(\"\\‡\",\"\")\n",
    "Tables_stack['Lead (ppb)'] = Tables_stack['Lead (ppb)'].str.replace(\" v\",\"\")\n",
    "Tables_stack['Arsenic (inorganic, ppb)'] = Tables_stack['Arsenic (inorganic, ppb)'].str.replace(\"\\*\",\"\")\n",
    "Tables_stack['Lead (ppb)'] = Tables_stack['Lead (ppb)'].str.replace(\"\\*\",\"\")\n",
    "Tables_stack['Cadmium (ppb)'] = Tables_stack['Cadmium (ppb)'].str.replace(\"\\*\",\"\")\n",
    "Tables_stack['Mercury (total, ppb)'] = Tables_stack['Mercury (total, ppb)'].str.replace(\"\\*\",\"\")"
   ]
  },
  {
   "cell_type": "markdown",
   "metadata": {},
   "source": [
    "##### Output to 'Baby_Metals_mod_data.csv' and Checked that everything looks reasonable."
   ]
  },
  {
   "cell_type": "code",
   "execution_count": 35,
   "metadata": {},
   "outputs": [],
   "source": [
    "Tables_stack.to_csv('Baby_Metals_mod_data.csv') "
   ]
  },
  {
   "cell_type": "code",
   "execution_count": 36,
   "metadata": {},
   "outputs": [
    {
     "data": {
      "text/html": [
       "<div>\n",
       "<style scoped>\n",
       "    .dataframe tbody tr th:only-of-type {\n",
       "        vertical-align: middle;\n",
       "    }\n",
       "\n",
       "    .dataframe tbody tr th {\n",
       "        vertical-align: top;\n",
       "    }\n",
       "\n",
       "    .dataframe thead th {\n",
       "        text-align: right;\n",
       "    }\n",
       "</style>\n",
       "<table border=\"1\" class=\"dataframe\">\n",
       "  <thead>\n",
       "    <tr style=\"text-align: right;\">\n",
       "      <th></th>\n",
       "      <th>Brand</th>\n",
       "      <th>Food</th>\n",
       "      <th>Food type</th>\n",
       "      <th>Arsenic (total, ppb)</th>\n",
       "      <th>Arsenic (inorganic, ppb)</th>\n",
       "      <th>Lead (ppb)</th>\n",
       "      <th>Cadmium (ppb)</th>\n",
       "      <th>Mercury (total, ppb)</th>\n",
       "      <th>Metro area where purchased</th>\n",
       "      <th>Retailer</th>\n",
       "    </tr>\n",
       "  </thead>\n",
       "  <tbody>\n",
       "    <tr>\n",
       "      <th>0</th>\n",
       "      <td>Beech-Nut</td>\n",
       "      <td>Beech-Nut Rice Single Grain Baby Cereal - Stag...</td>\n",
       "      <td>Cereal - rice</td>\n",
       "      <td>117</td>\n",
       "      <td>86</td>\n",
       "      <td>3.5</td>\n",
       "      <td>5.4</td>\n",
       "      <td>0.582</td>\n",
       "      <td>Charlottesville, VA</td>\n",
       "      <td>Wegmans</td>\n",
       "    </tr>\n",
       "    <tr>\n",
       "      <th>1</th>\n",
       "      <td>BioKinetics</td>\n",
       "      <td>BioKinetics BioKinetics Brown Rice Organic Spr...</td>\n",
       "      <td>Cereal - rice</td>\n",
       "      <td>353</td>\n",
       "      <td>144</td>\n",
       "      <td>3.1</td>\n",
       "      <td>31.7</td>\n",
       "      <td>2.32</td>\n",
       "      <td>Washington, DC</td>\n",
       "      <td>amazon.com</td>\n",
       "    </tr>\n",
       "    <tr>\n",
       "      <th>2</th>\n",
       "      <td>Earth's Best</td>\n",
       "      <td>Earth's Best Whole Grain Rice Cereal</td>\n",
       "      <td>Cereal - rice</td>\n",
       "      <td>138</td>\n",
       "      <td>113</td>\n",
       "      <td>22.5</td>\n",
       "      <td>14.7</td>\n",
       "      <td>2.41</td>\n",
       "      <td>San Diego, CA</td>\n",
       "      <td>99 Cents Only Stores</td>\n",
       "    </tr>\n",
       "    <tr>\n",
       "      <th>3</th>\n",
       "      <td>Earth's Best</td>\n",
       "      <td>Earth's Best Whole Grain Rice Cereal</td>\n",
       "      <td>Cereal - rice</td>\n",
       "      <td>126</td>\n",
       "      <td>107</td>\n",
       "      <td>17.8</td>\n",
       "      <td>13.4</td>\n",
       "      <td>2.19</td>\n",
       "      <td>Portland, ME</td>\n",
       "      <td>Hannaford</td>\n",
       "    </tr>\n",
       "    <tr>\n",
       "      <th>4</th>\n",
       "      <td>Gerber</td>\n",
       "      <td>Gerber Rice Single Grain Cereal</td>\n",
       "      <td>Cereal - rice</td>\n",
       "      <td>106</td>\n",
       "      <td>74</td>\n",
       "      <td>3.9</td>\n",
       "      <td>11.1</td>\n",
       "      <td>1.79</td>\n",
       "      <td>Gambell, AK</td>\n",
       "      <td>ANICA Native Store</td>\n",
       "    </tr>\n",
       "    <tr>\n",
       "      <th>5</th>\n",
       "      <td>Healthy Times</td>\n",
       "      <td>Healthy Times Organic Brown Rice Cereal - 4+ m...</td>\n",
       "      <td>Cereal - rice</td>\n",
       "      <td>153</td>\n",
       "      <td>133</td>\n",
       "      <td>67.4</td>\n",
       "      <td>12.1</td>\n",
       "      <td>1.53</td>\n",
       "      <td>Washington, DC</td>\n",
       "      <td>amazon.com</td>\n",
       "    </tr>\n",
       "    <tr>\n",
       "      <th>6</th>\n",
       "      <td>Kitchdee Organic</td>\n",
       "      <td>Kitchdee Organic Baby Cereal Rice and Lentil -...</td>\n",
       "      <td>Cereal - rice</td>\n",
       "      <td>79.3</td>\n",
       "      <td>78</td>\n",
       "      <td>10.9</td>\n",
       "      <td>13.1</td>\n",
       "      <td>4.06</td>\n",
       "      <td>Washington, DC</td>\n",
       "      <td>amazon.com</td>\n",
       "    </tr>\n",
       "    <tr>\n",
       "      <th>7</th>\n",
       "      <td>Gerber</td>\n",
       "      <td>Gerber MultiGrain Cereal - Sitter 2nd Foods</td>\n",
       "      <td>Cereal - mixed and multi-grain</td>\n",
       "      <td>37</td>\n",
       "      <td>31</td>\n",
       "      <td>5.3</td>\n",
       "      <td>26.2</td>\n",
       "      <td>0.367</td>\n",
       "      <td>Detroit, MI</td>\n",
       "      <td>Meijer</td>\n",
       "    </tr>\n",
       "    <tr>\n",
       "      <th>8</th>\n",
       "      <td>HappyBABY</td>\n",
       "      <td>HappyBABY Oats &amp; Quinoa Baby Cereal Organic Wh...</td>\n",
       "      <td>Cereal - mixed and multi-grain</td>\n",
       "      <td>10.2</td>\n",
       "      <td></td>\n",
       "      <td>0.9</td>\n",
       "      <td>12.4</td>\n",
       "      <td>0</td>\n",
       "      <td>Minneapolis, MN</td>\n",
       "      <td>Target</td>\n",
       "    </tr>\n",
       "    <tr>\n",
       "      <th>9</th>\n",
       "      <td>Beech-Nut</td>\n",
       "      <td>Beech-Nut Oatmeal Whole Grain Baby Cereal - St...</td>\n",
       "      <td>Cereal - oatmeal</td>\n",
       "      <td>23.8</td>\n",
       "      <td></td>\n",
       "      <td>2.2</td>\n",
       "      <td>13</td>\n",
       "      <td>0</td>\n",
       "      <td>Portland, OR</td>\n",
       "      <td>Fred Meyer</td>\n",
       "    </tr>\n",
       "    <tr>\n",
       "      <th>10</th>\n",
       "      <td>Earth's Best</td>\n",
       "      <td>Earth's Best Whole Grain Oatmeal Cereal</td>\n",
       "      <td>Cereal - oatmeal</td>\n",
       "      <td>29.5</td>\n",
       "      <td>27</td>\n",
       "      <td>2</td>\n",
       "      <td>20.1</td>\n",
       "      <td>0</td>\n",
       "      <td>Portland, ME</td>\n",
       "      <td>Hannaford</td>\n",
       "    </tr>\n",
       "    <tr>\n",
       "      <th>11</th>\n",
       "      <td>Gerber</td>\n",
       "      <td>Gerber Oatmeal Single Grain Cereal</td>\n",
       "      <td>Cereal - oatmeal</td>\n",
       "      <td>26.9</td>\n",
       "      <td></td>\n",
       "      <td>3</td>\n",
       "      <td>13</td>\n",
       "      <td>0</td>\n",
       "      <td>Washington, DC</td>\n",
       "      <td>Safeway</td>\n",
       "    </tr>\n",
       "    <tr>\n",
       "      <th>12</th>\n",
       "      <td>HappyBABY</td>\n",
       "      <td>HappyBABY Oatmeal Baby Cereal, Clearly Crafted...</td>\n",
       "      <td>Cereal - oatmeal</td>\n",
       "      <td>6.3</td>\n",
       "      <td></td>\n",
       "      <td>0</td>\n",
       "      <td>10</td>\n",
       "      <td>0</td>\n",
       "      <td>Albany, NY</td>\n",
       "      <td>buybuyBABY</td>\n",
       "    </tr>\n",
       "    <tr>\n",
       "      <th>13</th>\n",
       "      <td>Harvest Hill</td>\n",
       "      <td>Harvest Hill Instant Oatmeal, Maple &amp; Brown Sugar</td>\n",
       "      <td>Cereal - oatmeal</td>\n",
       "      <td>13.5</td>\n",
       "      <td></td>\n",
       "      <td>8.1</td>\n",
       "      <td>5.8</td>\n",
       "      <td>0</td>\n",
       "      <td>Houston, TX</td>\n",
       "      <td>Dollar Tree</td>\n",
       "    </tr>\n",
       "    <tr>\n",
       "      <th>14</th>\n",
       "      <td>Cream of Wheat</td>\n",
       "      <td>Cream of Wheat Cream of Wheat Instant Original...</td>\n",
       "      <td>Cereal - other single-grain</td>\n",
       "      <td>19.5</td>\n",
       "      <td></td>\n",
       "      <td>21.8</td>\n",
       "      <td>36.7</td>\n",
       "      <td>0</td>\n",
       "      <td>San Diego, CA</td>\n",
       "      <td>99 Cents Only Stores</td>\n",
       "    </tr>\n",
       "    <tr>\n",
       "      <th>15</th>\n",
       "      <td>Gerber</td>\n",
       "      <td>Gerber Barley Single Grain Cereal-  Supported ...</td>\n",
       "      <td>Cereal - other single-grain</td>\n",
       "      <td>10.6</td>\n",
       "      <td></td>\n",
       "      <td>3</td>\n",
       "      <td>13.7</td>\n",
       "      <td>0</td>\n",
       "      <td>Detroit, MI</td>\n",
       "      <td>Meijer</td>\n",
       "    </tr>\n",
       "    <tr>\n",
       "      <th>16</th>\n",
       "      <td>Gerber</td>\n",
       "      <td>Gerber Whole Wheat Whole Grain Cereal - Sitter...</td>\n",
       "      <td>Cereal - other single-grain</td>\n",
       "      <td>40.6</td>\n",
       "      <td>39</td>\n",
       "      <td>5.5</td>\n",
       "      <td>50.8</td>\n",
       "      <td>0</td>\n",
       "      <td>Cincinnati, OH</td>\n",
       "      <td>Kroger</td>\n",
       "    </tr>\n",
       "    <tr>\n",
       "      <th>17</th>\n",
       "      <td>NurturMe</td>\n",
       "      <td>NurturMe Organic Quinoa Cereals - Quinoa + Swe...</td>\n",
       "      <td>Cereal - other single-grain</td>\n",
       "      <td>35.9</td>\n",
       "      <td>26</td>\n",
       "      <td>39.8</td>\n",
       "      <td>20.3</td>\n",
       "      <td>0.389</td>\n",
       "      <td>San Diego, CA</td>\n",
       "      <td>99 Cents Only Stores</td>\n",
       "    </tr>\n",
       "    <tr>\n",
       "      <th>18</th>\n",
       "      <td>365 organic(Whole Foods)</td>\n",
       "      <td>365 organic (Whole Organic Milk Based Powder I...</td>\n",
       "      <td>Formula</td>\n",
       "      <td>4.1</td>\n",
       "      <td></td>\n",
       "      <td>2.7</td>\n",
       "      <td>0.7</td>\n",
       "      <td>0</td>\n",
       "      <td>Boulder, CO</td>\n",
       "      <td>Whole Foods Market</td>\n",
       "    </tr>\n",
       "    <tr>\n",
       "      <th>19</th>\n",
       "      <td>Baby's Only Organic</td>\n",
       "      <td>Baby's Only Organic Organic Non-GMO Dairy Todd...</td>\n",
       "      <td>Formula</td>\n",
       "      <td>3.8</td>\n",
       "      <td></td>\n",
       "      <td>1.6</td>\n",
       "      <td>0</td>\n",
       "      <td>0</td>\n",
       "      <td>Boulder, CO</td>\n",
       "      <td>Whole Foods Market</td>\n",
       "    </tr>\n",
       "  </tbody>\n",
       "</table>\n",
       "</div>"
      ],
      "text/plain": [
       "                       Brand  \\\n",
       "0                  Beech-Nut   \n",
       "1                BioKinetics   \n",
       "2               Earth's Best   \n",
       "3               Earth's Best   \n",
       "4                     Gerber   \n",
       "5              Healthy Times   \n",
       "6           Kitchdee Organic   \n",
       "7                     Gerber   \n",
       "8                  HappyBABY   \n",
       "9                  Beech-Nut   \n",
       "10              Earth's Best   \n",
       "11                    Gerber   \n",
       "12                 HappyBABY   \n",
       "13              Harvest Hill   \n",
       "14            Cream of Wheat   \n",
       "15                    Gerber   \n",
       "16                    Gerber   \n",
       "17                  NurturMe   \n",
       "18  365 organic(Whole Foods)   \n",
       "19       Baby's Only Organic   \n",
       "\n",
       "                                                 Food  \\\n",
       "0   Beech-Nut Rice Single Grain Baby Cereal - Stag...   \n",
       "1   BioKinetics BioKinetics Brown Rice Organic Spr...   \n",
       "2                Earth's Best Whole Grain Rice Cereal   \n",
       "3                Earth's Best Whole Grain Rice Cereal   \n",
       "4                     Gerber Rice Single Grain Cereal   \n",
       "5   Healthy Times Organic Brown Rice Cereal - 4+ m...   \n",
       "6   Kitchdee Organic Baby Cereal Rice and Lentil -...   \n",
       "7        Gerber MultiGrain Cereal - Sitter 2nd Foods    \n",
       "8   HappyBABY Oats & Quinoa Baby Cereal Organic Wh...   \n",
       "9   Beech-Nut Oatmeal Whole Grain Baby Cereal - St...   \n",
       "10            Earth's Best Whole Grain Oatmeal Cereal   \n",
       "11                 Gerber Oatmeal Single Grain Cereal   \n",
       "12  HappyBABY Oatmeal Baby Cereal, Clearly Crafted...   \n",
       "13  Harvest Hill Instant Oatmeal, Maple & Brown Sugar   \n",
       "14  Cream of Wheat Cream of Wheat Instant Original...   \n",
       "15  Gerber Barley Single Grain Cereal-  Supported ...   \n",
       "16  Gerber Whole Wheat Whole Grain Cereal - Sitter...   \n",
       "17  NurturMe Organic Quinoa Cereals - Quinoa + Swe...   \n",
       "18  365 organic (Whole Organic Milk Based Powder I...   \n",
       "19  Baby's Only Organic Organic Non-GMO Dairy Todd...   \n",
       "\n",
       "                         Food type Arsenic (total, ppb)  \\\n",
       "0                   Cereal - rice                   117   \n",
       "1                   Cereal - rice                   353   \n",
       "2                    Cereal - rice                  138   \n",
       "3                    Cereal - rice                  126   \n",
       "4                    Cereal - rice                  106   \n",
       "5                    Cereal - rice                  153   \n",
       "6                   Cereal - rice                  79.3   \n",
       "7   Cereal - mixed and multi-grain                   37   \n",
       "8   Cereal - mixed and multi-grain                 10.2   \n",
       "9                Cereal - oatmeal                  23.8   \n",
       "10                Cereal - oatmeal                 29.5   \n",
       "11                Cereal - oatmeal                 26.9   \n",
       "12               Cereal - oatmeal                  6.3    \n",
       "13                Cereal - oatmeal                 13.5   \n",
       "14     Cereal - other single-grain                 19.5   \n",
       "15     Cereal - other single-grain                10.6    \n",
       "16     Cereal - other single-grain                 40.6   \n",
       "17    Cereal - other single-grain                  35.9   \n",
       "18                        Formula                  4.1    \n",
       "19                         Formula                 3.8    \n",
       "\n",
       "   Arsenic (inorganic, ppb) Lead (ppb) Cadmium (ppb) Mercury (total, ppb)  \\\n",
       "0                        86        3.5           5.4                0.582   \n",
       "1                       144       3.1           31.7                 2.32   \n",
       "2                       113       22.5          14.7                 2.41   \n",
       "3                       107       17.8          13.4                 2.19   \n",
       "4                        74        3.9          11.1                 1.79   \n",
       "5                       133       67.4          12.1                 1.53   \n",
       "6                        78       10.9          13.1                 4.06   \n",
       "7                        31        5.3          26.2               0.367    \n",
       "8                                 0.9           12.4                    0   \n",
       "9                                  2.2            13                    0   \n",
       "10                       27         2           20.1                    0   \n",
       "11                                  3             13                    0   \n",
       "12                                   0            10                    0   \n",
       "13                                 8.1           5.8                    0   \n",
       "14                                21.8          36.7                    0   \n",
       "15                                  3           13.7                    0   \n",
       "16                       39        5.5          50.8                    0   \n",
       "17                       26       39.8          20.3               0.389    \n",
       "18                                 2.7          0.7                     0   \n",
       "19                                1.6              0                    0   \n",
       "\n",
       "   Metro area where purchased              Retailer  \n",
       "0         Charlottesville, VA               Wegmans  \n",
       "1              Washington, DC            amazon.com  \n",
       "2               San Diego, CA  99 Cents Only Stores  \n",
       "3                Portland, ME             Hannaford  \n",
       "4                 Gambell, AK    ANICA Native Store  \n",
       "5              Washington, DC            amazon.com  \n",
       "6              Washington, DC            amazon.com  \n",
       "7                 Detroit, MI                Meijer  \n",
       "8             Minneapolis, MN                Target  \n",
       "9                Portland, OR            Fred Meyer  \n",
       "10               Portland, ME             Hannaford  \n",
       "11             Washington, DC               Safeway  \n",
       "12                 Albany, NY            buybuyBABY  \n",
       "13                Houston, TX           Dollar Tree  \n",
       "14              San Diego, CA  99 Cents Only Stores  \n",
       "15                Detroit, MI                Meijer  \n",
       "16             Cincinnati, OH                Kroger  \n",
       "17              San Diego, CA  99 Cents Only Stores  \n",
       "18                Boulder, CO    Whole Foods Market  \n",
       "19                Boulder, CO    Whole Foods Market  "
      ]
     },
     "execution_count": 36,
     "metadata": {},
     "output_type": "execute_result"
    }
   ],
   "source": [
    "Tables_stack.head(20)"
   ]
  }
 ],
 "metadata": {
  "kernelspec": {
   "display_name": "Python 3",
   "language": "python",
   "name": "python3"
  },
  "language_info": {
   "codemirror_mode": {
    "name": "ipython",
    "version": 3
   },
   "file_extension": ".py",
   "mimetype": "text/x-python",
   "name": "python",
   "nbconvert_exporter": "python",
   "pygments_lexer": "ipython3",
   "version": "3.7.4"
  }
 },
 "nbformat": 4,
 "nbformat_minor": 2
}
